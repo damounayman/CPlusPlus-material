{
 "cells": [
  {
   "cell_type": "markdown",
   "id": "drawn-progress",
   "metadata": {},
   "source": [
    "# Data Types"
   ]
  },
  {
   "cell_type": "markdown",
   "id": "8fc79a7e",
   "metadata": {},
   "source": [
    "## Import the input/output stream library"
   ]
  },
  {
   "cell_type": "code",
   "execution_count": 2,
   "id": "ef8eb88a",
   "metadata": {},
   "outputs": [],
   "source": [
    "#include <iostream>"
   ]
  },
  {
   "cell_type": "markdown",
   "id": "5af656ac",
   "metadata": {},
   "source": [
    "## Main function in Jupyter Notebooks"
   ]
  },
  {
   "cell_type": "markdown",
   "id": "pregnant-focus",
   "metadata": {},
   "source": [
    "In a C++ file we use the following structure to execute the main program:"
   ]
  },
  {
   "cell_type": "code",
   "execution_count": 3,
   "id": "a47847f4",
   "metadata": {},
   "outputs": [],
   "source": [
    "int main(){\n",
    "    std::cout << \"Hello world, I am ready for C++\";\n",
    "    return 0;\n",
    "}"
   ]
  },
  {
   "cell_type": "markdown",
   "id": "lined-credits",
   "metadata": {},
   "source": [
    "However, in jupyter notebooks that's equivalent to:"
   ]
  },
  {
   "cell_type": "code",
   "execution_count": 4,
   "id": "06ff738d",
   "metadata": {},
   "outputs": [
    {
     "name": "stdout",
     "output_type": "stream",
     "text": [
      "Hello world, I am ready for C++"
     ]
    }
   ],
   "source": [
    "std::cout << \"Hello world, I am ready for C++\";"
   ]
  },
  {
   "cell_type": "markdown",
   "id": "2d435080",
   "metadata": {},
   "source": [
    "## Namespace\n",
    "To avoid writing std:: we can use the **namespace**.\n",
    "\n",
    "This tells the compiler to assume we are using the standard library in this case."
   ]
  },
  {
   "cell_type": "code",
   "execution_count": 5,
   "id": "b025b885",
   "metadata": {},
   "outputs": [],
   "source": [
    "using namespace std;"
   ]
  },
  {
   "cell_type": "code",
   "execution_count": 9,
   "id": "3563ac46",
   "metadata": {},
   "outputs": [
    {
     "name": "stdout",
     "output_type": "stream",
     "text": [
      "Hello world, I am ready for C++"
     ]
    }
   ],
   "source": [
    "// cout instead of std::cout\n",
    "cout << \"Hello world, I am ready for C++\";"
   ]
  },
  {
   "cell_type": "markdown",
   "id": "7a38163d",
   "metadata": {},
   "source": [
    "## Declaring variables\n",
    "\n",
    "| DATA TYPES \t| DESCRIPTION           \t| SIZE (in bytes) \t|\n",
    "|------------\t|-----------------------\t|-----------------\t|\n",
    "| `int`      \t| Integer               \t| 2 or 4          \t|\n",
    "| `float`    \t| Floating-point        \t| 4               \t|\n",
    "| `double`   \t| Double Floating-point \t| 8               \t|\n",
    "| `char`     \t| Character             \t| 1               \t|\n",
    "| `wchar_t`  \t| Wide character        \t| 2               \t|\n",
    "| `bool`     \t| Boolean               \t| 1               \t|\n",
    "| `void`     \t| Empty                 \t| 0               \t|"
   ]
  },
  {
   "cell_type": "markdown",
   "id": "92c0d2f3",
   "metadata": {},
   "source": [
    "|        **Type**        | **Typical Bit Width** |        **Typical Range**        |\n",
    "|:----------------------:|:---------------------:|:-------------------------------:|\n",
    "|          char          |         1byte         |     -127 to 127 or 0 to 255     |\n",
    "|      unsigned char     |         1byte         |             0 to 255            |\n",
    "|       signed char      |         1byte         |           -127 to 127           |\n",
    "|           int          |         4bytes        |    -2147483648 to 2147483647    |\n",
    "|      unsigned int      |         4bytes        |         0 to 4294967295         |\n",
    "|       signed int       |         4bytes        |    -2147483648 to 2147483647    |\n",
    "|        short int       |         2bytes        |         -32768 to 32767         |\n",
    "|   unsigned short int   |         2bytes        |           0 to 65,535           |\n",
    "|    signed short int    |         2bytes        |         -32768 to 32767         |\n",
    "|        long int        |         8bytes        | -2,147,483,648 to 2,147,483,647 |\n",
    "|     signed long int    |         8bytes        |         same as long int        |\n",
    "|    unsigned long int   |         8bytes        |        0 to 4,294,967,295       |\n",
    "|      long long int     |         8bytes        |       -(2^63) to (2^63)-1       |\n",
    "| unsigned long long int |         8bytes        | 0 to 18,446,744,073,709,551,615 |\n",
    "|          float         |         4bytes        |                                 |\n",
    "|         double         |         8bytes        |                                 |\n",
    "|       long double      |        12bytes        |                                 |\n",
    "|         wchar_t        |      2 or 4 bytes     |         1 wide character        |"
   ]
  },
  {
   "cell_type": "code",
   "execution_count": 10,
   "id": "a6806331",
   "metadata": {},
   "outputs": [
    {
     "name": "stdout",
     "output_type": "stream",
     "text": [
      "They pay me 5000$/month"
     ]
    }
   ],
   "source": [
    "int salary = 5000;\n",
    "\n",
    "std::cout << \"They pay me \" << salary << \"$/month\";"
   ]
  },
  {
   "cell_type": "markdown",
   "id": "a85ea771",
   "metadata": {},
   "source": [
    "### Input"
   ]
  },
  {
   "cell_type": "markdown",
   "id": "loaded-uzbekistan",
   "metadata": {},
   "source": [
    "To ask the user for an input we use `std::cin >> inputName;`"
   ]
  },
  {
   "cell_type": "code",
   "execution_count": 12,
   "id": "565c61d0",
   "metadata": {},
   "outputs": [
    {
     "name": "stdout",
     "output_type": "stream",
     "text": [
      "Enter your name: Jimena\n",
      "\n",
      "We already know that your name is Jimena"
     ]
    }
   ],
   "source": [
    "#include <string>\n",
    "\n",
    "std::string name = \"\";\n",
    "\n",
    "std::cout << \"Enter your name: \";\n",
    "std::cin >> name;\n",
    "std::cout << std::endl << \"We already know that your name is \" << name;"
   ]
  },
  {
   "cell_type": "code",
   "execution_count": null,
   "id": "a72684b5",
   "metadata": {},
   "outputs": [],
   "source": []
  }
 ],
 "metadata": {
  "interpreter": {
   "hash": "e55666fbbf217aa3df372b978577f47b6009e2f78e2ec76a584f49cd54a1e62c"
  },
  "kernelspec": {
   "display_name": "Python 2.7.18 64-bit",
   "language": "python",
   "name": "python3"
  },
  "language_info": {
   "codemirror_mode": "text/x-c++src",
   "file_extension": ".cpp",
   "mimetype": "text/x-c++src",
   "name": "python",
   "version": "2.7.18"
  }
 },
 "nbformat": 4,
 "nbformat_minor": 5
}
